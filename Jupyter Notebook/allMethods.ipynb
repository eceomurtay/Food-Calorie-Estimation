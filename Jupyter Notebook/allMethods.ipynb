{
 "cells": [
  {
   "cell_type": "code",
   "execution_count": null,
   "metadata": {},
   "outputs": [],
   "source": [
    "import numpy as np\n",
    "import cv2\n",
    "import pandas as pd\n",
    "import glob\n",
    "import xml.etree.ElementTree as ET\n",
    "import matplotlib.pyplot as plt"
   ]
  },
  {
   "cell_type": "code",
   "execution_count": null,
   "metadata": {},
   "outputs": [],
   "source": [
    "food_imgs = []\n",
    "for paths in glob.glob(\"./FOOD/*.JPG\"):\n",
    "    if paths == './FOOD/mix002T(2).JPG':\n",
    "        continue\n",
    "    elif paths == './FOOD/mix005S(4).JPG':\n",
    "        continue\n",
    "    else:\n",
    "        food_imgs.append(paths)"
   ]
  },
  {
   "cell_type": "code",
   "execution_count": null,
   "metadata": {},
   "outputs": [],
   "source": [
    "densities = pd.read_excel(\"density.xls\", sheet_name=None)\n",
    "# Types of foods\n",
    "classes = [i for i in densities.keys()]"
   ]
  },
  {
   "cell_type": "code",
   "execution_count": null,
   "metadata": {},
   "outputs": [],
   "source": [
    "def image_data(datalist, df):\n",
    "\n",
    "    for path in df['id'].values:\n",
    "        path = \"./FOOD/\" + path + \".JPG\"\n",
    "        image = cv2.imread(path)                        # read images and resized as (128, 128)\n",
    "        image = cv2.resize(image, (128, 128))\n",
    "        datalist.append(image)\n",
    "\n",
    "    # normalize data, all pixel values in range [0,1]\n",
    "    datalist = np.array(datalist, dtype=\"float\") / 255.0\n",
    "    return datalist"
   ]
  },
  {
   "cell_type": "code",
   "execution_count": null,
   "metadata": {},
   "outputs": [],
   "source": [
    "def get_bbox(annotations, food_boxes, coin_boxes):      # get box coordinates of food and coin from xml file\n",
    "    # Get food's and coin's bounding box\n",
    "    for path in annotations:\n",
    "        food = ET.parse(path)\n",
    "        root = food.getroot()\n",
    "        temp = 0\n",
    "        for child in root.findall('object'):\n",
    "            box = child.find('bndbox')\n",
    "            xmin = int(box[0].text)\n",
    "            ymin = int(box[1].text)\n",
    "            xmax = int(box[2].text)\n",
    "            ymax = int(box[3].text)\n",
    "            if temp == 0:\n",
    "                food_boxes.append((xmin, ymin, xmax, ymax))\n",
    "            else:\n",
    "                coin_boxes.append((xmin, ymin, xmax, ymax))\n",
    "            temp += 1\n",
    "\n",
    "    return food_boxes, coin_boxes"
   ]
  },
  {
   "cell_type": "code",
   "execution_count": null,
   "metadata": {},
   "outputs": [],
   "source": [
    "def create_df(food_bbox, coin_bbox):\n",
    "\n",
    "    df = pd.DataFrame(columns=['id', 'label', 'food_bbox', 'coin_bbox'])\n",
    "    labels = dict(zip(classes, range(0, 20)))\n",
    "    for i in range(len(food_imgs)):\n",
    "        name = food_imgs[i][food_imgs[i].index(\"\\\\\") + 1:food_imgs[i].index(\".JPG\")]\n",
    "        for c in classes:\n",
    "            if c in name:\n",
    "                df.loc[i] = [name, labels[c], food_bbox[i], coin_bbox[i]]\n",
    "\n",
    "    return df"
   ]
  },
  {
   "cell_type": "code",
   "execution_count": null,
   "metadata": {},
   "outputs": [],
   "source": [
    "def locations(df, idx):\n",
    "    food_box = df.iloc[idx]['food_bbox']\n",
    "    coin_box = df.iloc[idx]['coin_bbox']\n",
    "\n",
    "    width_food, height_food = (food_box[2] - food_box[0], food_box[3] - food_box[1])\n",
    "    width_coin, height_coin = (coin_box[2] - coin_box[0], coin_box[3] - coin_box[1])\n",
    "\n",
    "    return (food_box[0], food_box[1], width_food, height_food), (coin_box[0], coin_box[1], width_coin, height_coin)"
   ]
  },
  {
   "cell_type": "code",
   "execution_count": null,
   "metadata": {},
   "outputs": [],
   "source": [
    "def draw_plots(history):\n",
    "    # summarize history for loss and accuracy\n",
    "    plt.plot(history.history['loss'])\n",
    "    plt.plot(history.history['val_loss'])\n",
    "    plt.title('model loss')\n",
    "    plt.ylabel('loss')\n",
    "    plt.xlabel('epoch')\n",
    "    plt.legend(['train', 'test'], loc='best')\n",
    "    plt.show()\n",
    "\n",
    "    plt.plot(history.history['accuracy'])\n",
    "    plt.plot(history.history['val_accuracy'])\n",
    "    plt.title('model accuracy')\n",
    "    plt.ylabel('accuracy')\n",
    "    plt.xlabel('epoch')\n",
    "    plt.legend(['train', 'test'], loc='best')\n",
    "    plt.show()"
   ]
  },
  {
   "cell_type": "code",
   "execution_count": null,
   "metadata": {},
   "outputs": [],
   "source": [
    "# GrabCut\n",
    "def grab_cut(image, box):\n",
    "    # read the image\n",
    "    image = cv2.imread(image)\n",
    "    # convert to RGB from default BGR\n",
    "    image = cv2.cvtColor(image, cv2.COLOR_BGR2RGB)\n",
    "    # copy the original image\n",
    "    img = image.copy()\n",
    "    # create a mask with shape (width, height)\n",
    "    mask = np.zeros(img.shape[:2], np.uint8)\n",
    "    background = np.zeros((1, 65), np.float64)\n",
    "    foreground = np.zeros((1, 65), np.float64)\n",
    "    cv2.grabCut(img, mask, box, background, foreground, 5, cv2.GC_INIT_WITH_RECT)\n",
    "    mask2 = np.where((mask == 2) | (mask == 0), 0, 1).astype('uint8')\n",
    "    segmented = img * mask2[:, :, np.newaxis]\n",
    "    return segmented"
   ]
  },
  {
   "cell_type": "code",
   "execution_count": null,
   "metadata": {},
   "outputs": [],
   "source": [
    "# CALORIE\n",
    "\n",
    "calories = {'apple': 0.52, 'banana': 0.89, 'bread': 3.15, 'bun': 2.23, 'doughnut': 4.34, 'egg': 1.43,\n",
    "            'fired_dough_twist': 24.16, 'grape': 0.69, 'lemon': 0.29, 'litchi': 0.66, 'mango': 0.60,\n",
    "            'mooncake': 18.83, 'orange': 0.63, 'peach': 0.57, 'pear': 0.39, 'plum': 0.46, 'qiwi': 0.61,\n",
    "            'sachima': 21.45, 'tomato': 0.27}\n",
    "\n",
    "food_densities = {'apple': 0.78, 'banana': 0.91, 'bread': 0.18, 'bun': 0.34, 'doughnut': 0.31, 'egg': 1.03,\n",
    "                  'fired_dough_twist': 0.58, 'grape': 0.97, 'lemon': 0.96, 'litchi': 1.00, 'mango': 1.07,\n",
    "                  'mooncake': 0.96, 'orange': 0.90, 'peach': 0.96, 'pear': 1.02, 'plum': 1.01, 'qiwi': 0.97,\n",
    "                  'sachima': 0.22, 'tomato': 0.98}"
   ]
  },
  {
   "cell_type": "code",
   "execution_count": null,
   "metadata": {},
   "outputs": [],
   "source": [
    "mix = densities['mix'].mean(axis=0)     # label = 11\n",
    "\n",
    "mix_cal = round(sum(calories.values())/len(calories), 2)        # mean calorie of mix labelled images\n",
    "mix_density = round(mix['weight(g)'] / mix['volume(mm^3)'], 2)  # mean density of mix labelled images"
   ]
  },
  {
   "cell_type": "code",
   "execution_count": null,
   "metadata": {},
   "outputs": [],
   "source": [
    "def get_food_df():\n",
    "    df = pd.DataFrame(columns=['food', 'density', 'calorie'])\n",
    "    f = 0\n",
    "    for food in classes:\n",
    "        if food != 'mix':\n",
    "            df.loc[f] = [food, food_densities[food], calories[food]]\n",
    "            f += 1\n",
    "        else:\n",
    "            df.loc[f] = [food, mix_density, mix_cal]\n",
    "            f += 1\n",
    "\n",
    "    return df"
   ]
  },
  {
   "cell_type": "code",
   "execution_count": null,
   "metadata": {},
   "outputs": [],
   "source": [
    "# AREA\n",
    "\n",
    "def food_area(food_img):            # find the area of food in the image by using contours\n",
    "    _, thresh = cv2.threshold(cv2.cvtColor(food_img, cv2.COLOR_BGR2GRAY), 40, 255, 0)\n",
    "    contours, hierarchy = cv2.findContours(thresh, cv2.RETR_EXTERNAL, cv2.CHAIN_APPROX_NONE)\n",
    "\n",
    "    area = 0\n",
    "    cnt = None\n",
    "    for c in contours:\n",
    "        if cv2.contourArea(c) > 0:\n",
    "            area = cv2.contourArea(c)\n",
    "            cnt = c\n",
    "\n",
    "    x, y, w, h = cv2.boundingRect(cnt)\n",
    "    # rect_area = w * h\n",
    "    cv2.rectangle(food_img, (x, y), (x + w, y + h), (0, 255, 0), 2)\n",
    "    return area, h"
   ]
  },
  {
   "cell_type": "code",
   "execution_count": null,
   "metadata": {},
   "outputs": [],
   "source": [
    "def coin_area(coin_img):        # find the area of coin in the image by using contours\n",
    "    coin_img = cv2.cvtColor(coin_img, cv2.COLOR_BGR2GRAY)\n",
    "    _, thresh = cv2.threshold(coin_img, 40, 255, 0)\n",
    "    contours, hierarchy = cv2.findContours(thresh, cv2.RETR_EXTERNAL, cv2.CHAIN_APPROX_NONE)\n",
    "\n",
    "    if len(contours) == 0:      # if contour cannot find, assign 1 to its area value, 0,025 to its scale factor\n",
    "        area_coin = 1\n",
    "        pixel2cm = 2.5 / 100\n",
    "    else:\n",
    "        cont = max(contours, key=cv2.contourArea)\n",
    "        x, y, w, h = cv2.boundingRect(cont)\n",
    "        cv2.rectangle(coin_img, (x, y), (x + w, y + h), (0, 255, 0), 1)\n",
    "        pixel2cm = 2.5 / h                          # 1 pixel is ... cm\n",
    "        area_coin = cv2.contourArea(cont)\n",
    "    return area_coin, pixel2cm\n"
   ]
  },
  {
   "cell_type": "code",
   "execution_count": null,
   "metadata": {},
   "outputs": [],
   "source": [
    "# VOLUME\n",
    "\n",
    "shape = {'ellipsoid': [0, 5, 8, 13, 14, 16, 17, 19],\n",
    "         'column': [2, 7, 12, 18],\n",
    "         'irregular': [1, 3, 4, 6, 9, 10, 15]}"
   ]
  },
  {
   "cell_type": "code",
   "execution_count": null,
   "metadata": {},
   "outputs": [],
   "source": [
    "def get_volume(idx, label, df):\n",
    "    food_box, coin_box = locations(df, idx)\n",
    "\n",
    "    food = grab_cut(food_imgs[idx], food_box)\n",
    "    coin = grab_cut(food_imgs[idx], coin_box)\n",
    "\n",
    "    area_food, height = food_area(food)\n",
    "    area_coin, px2cm = coin_area(coin)\n",
    "    if area_coin == 0:\n",
    "        area_coin = 1\n",
    "    ratio = (area_food / area_coin)\n",
    "\n",
    "    if label in shape['ellipsoid']:\n",
    "        rad = np.sqrt(ratio / np.pi)\n",
    "        volume = ((4 / 3) * np.pi * (rad ** 3))\n",
    "\n",
    "    elif label in shape['column']:\n",
    "        height = height * px2cm\n",
    "        rad = ratio / (2.0 * height)    # 2 * pi * r\n",
    "        volume = np.pi * rad * rad * height\n",
    "\n",
    "    elif label in shape['irregular']:\n",
    "        height = height * px2cm\n",
    "        volume = area_food * height\n",
    "\n",
    "    else:\n",
    "        volume = ratio * px2cm\n",
    "        # volume = 0\n",
    "\n",
    "    return volume * 10"
   ]
  },
  {
   "cell_type": "code",
   "execution_count": null,
   "metadata": {},
   "outputs": [],
   "source": [
    "def get_calorie(volume, density, c):\n",
    "    # c = calories per gram\n",
    "    mass = volume * density\n",
    "    return c * mass"
   ]
  },
  {
   "cell_type": "code",
   "execution_count": null,
   "metadata": {},
   "outputs": [],
   "source": []
  },
  {
   "cell_type": "code",
   "execution_count": null,
   "metadata": {},
   "outputs": [],
   "source": []
  },
  {
   "cell_type": "code",
   "execution_count": null,
   "metadata": {},
   "outputs": [],
   "source": []
  }
 ],
 "metadata": {
  "kernelspec": {
   "display_name": "Python 3",
   "language": "python",
   "name": "python3"
  },
  "language_info": {
   "codemirror_mode": {
    "name": "ipython",
    "version": 3
   },
   "file_extension": ".py",
   "mimetype": "text/x-python",
   "name": "python",
   "nbconvert_exporter": "python",
   "pygments_lexer": "ipython3",
   "version": "3.6.10"
  }
 },
 "nbformat": 4,
 "nbformat_minor": 2
}
