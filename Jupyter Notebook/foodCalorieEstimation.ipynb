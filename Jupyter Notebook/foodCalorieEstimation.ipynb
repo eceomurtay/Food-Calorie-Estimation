{
 "cells": [
  {
   "cell_type": "code",
   "execution_count": null,
   "metadata": {},
   "outputs": [],
   "source": [
    "import glob\n",
    "from sklearn.model_selection import train_test_split\n",
    "import matplotlib.pyplot as plt\n",
    "from sklearn.metrics import confusion_matrix\n",
    "import seaborn as sn\n",
    "from methods import *\n",
    "from cnn import *"
   ]
  },
  {
   "cell_type": "code",
   "execution_count": null,
   "metadata": {},
   "outputs": [],
   "source": [
    "food_imgs = []\n",
    "for path in glob.glob(\"./FOOD/*.JPG\"):\n",
    "    if path == './FOOD\\\\mix002T(2).JPG':\n",
    "        continue\n",
    "    elif path == './FOOD\\\\mix005S(4).JPG':\n",
    "        continue\n",
    "    else: food_imgs.append(path)\n",
    "        \n",
    "annotations = glob.glob(\"./Annotations/*.xml\")"
   ]
  },
  {
   "cell_type": "code",
   "execution_count": null,
   "metadata": {},
   "outputs": [],
   "source": [
    "food_bbox, coin_bbox = get_bbox(annotations, [], [])\n",
    "info = create_df(food_bbox, coin_bbox)\n",
    "food_df = get_food_df()"
   ]
  },
  {
   "cell_type": "code",
   "execution_count": null,
   "metadata": {},
   "outputs": [],
   "source": [
    "xtr, xtest, y_train, y_test = train_test_split(info, info.label, test_size=0.3, random_state=42)\n",
    "xtest, xval, y_test, y_val = train_test_split(xtest, y_test, test_size=0.5, random_state=42)\n",
    "\n",
    "indices = list(xtest.index)\n",
    "\n",
    "X_train = image_data([], xtr)\n",
    "X_val = image_data([], xval)\n",
    "X_test = image_data([], xtest)"
   ]
  },
  {
   "cell_type": "code",
   "execution_count": null,
   "metadata": {},
   "outputs": [],
   "source": [
    "history = model.fit(X_train, y_train, batch_size=32, epochs=50, validation_data=(X_val, y_val), shuffle=True)"
   ]
  },
  {
   "cell_type": "markdown",
   "metadata": {},
   "source": [
    "#### Dataset to test volume estimation"
   ]
  },
  {
   "cell_type": "code",
   "execution_count": null,
   "metadata": {},
   "outputs": [],
   "source": [
    "real_mean_volume = [densities[c].mean(axis=0)['volume(mm^3)'] for c in classes]"
   ]
  },
  {
   "cell_type": "code",
   "execution_count": null,
   "metadata": {},
   "outputs": [],
   "source": [
    "test_df = info.groupby('label', as_index=False, group_keys=False).apply(lambda s: s.sample(1))\n",
    "# get 3 random samples from each class"
   ]
  },
  {
   "cell_type": "code",
   "execution_count": null,
   "metadata": {},
   "outputs": [],
   "source": [
    "test_data = image_data([], test_df)"
   ]
  },
  {
   "cell_type": "code",
   "execution_count": null,
   "metadata": {},
   "outputs": [],
   "source": [
    "test_idxs = list(test_df.index)"
   ]
  },
  {
   "cell_type": "code",
   "execution_count": null,
   "metadata": {},
   "outputs": [],
   "source": [
    "test_yhat = model.predict_classes(test_data)"
   ]
  },
  {
   "cell_type": "code",
   "execution_count": null,
   "metadata": {},
   "outputs": [],
   "source": [
    "test_vol_pred = []\n",
    "\n",
    "for i in range(len(test_yhat)):\n",
    "    idx = test_idxs[i]\n",
    "    label = test_yhat[i]\n",
    "    volume = get_volume(idx, label, info)\n",
    "    calorie = get_calorie(volume, food_df.iloc[label]['density'], food_df.iloc[label]['calorie'])\n",
    "    # print(\"Calorie : \", calorie)\n",
    "    test_vol_pred.append(volume)"
   ]
  },
  {
   "cell_type": "code",
   "execution_count": null,
   "metadata": {},
   "outputs": [],
   "source": [
    "MSE = np.square(np.subtract(real_mean_volume, test_vol_pred)).mean()\n",
    "\n",
    "MSE"
   ]
  },
  {
   "cell_type": "code",
   "execution_count": null,
   "metadata": {},
   "outputs": [],
   "source": []
  },
  {
   "cell_type": "code",
   "execution_count": null,
   "metadata": {},
   "outputs": [],
   "source": []
  },
  {
   "cell_type": "code",
   "execution_count": null,
   "metadata": {},
   "outputs": [],
   "source": []
  },
  {
   "cell_type": "code",
   "execution_count": null,
   "metadata": {},
   "outputs": [],
   "source": []
  },
  {
   "cell_type": "code",
   "execution_count": null,
   "metadata": {},
   "outputs": [],
   "source": []
  }
 ],
 "metadata": {
  "kernelspec": {
   "display_name": "Python 3",
   "language": "python",
   "name": "python3"
  },
  "language_info": {
   "codemirror_mode": {
    "name": "ipython",
    "version": 3
   },
   "file_extension": ".py",
   "mimetype": "text/x-python",
   "name": "python",
   "nbconvert_exporter": "python",
   "pygments_lexer": "ipython3",
   "version": "3.6.10"
  }
 },
 "nbformat": 4,
 "nbformat_minor": 2
}
